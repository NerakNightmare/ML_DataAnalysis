{
 "cells": [
  {
   "cell_type": "code",
   "execution_count": null,
   "metadata": {},
   "outputs": [],
   "source": [
    "import pandas as pd\n",
    "\n",
    "\n",
    "# Leemos el excel con los datos\n",
    "data = pd.read_csv('countries.csv')"
   ]
  },
  {
   "cell_type": "code",
   "execution_count": null,
   "metadata": {},
   "outputs": [],
   "source": [
    "#nos da la informacion de los tipos de datos del df\n",
    "data.info()\n",
    "\n",
    "#obtenemos el nombre de las columnas de manera de indice\n",
    "data.columns"
   ]
  },
  {
   "cell_type": "code",
   "execution_count": null,
   "metadata": {},
   "outputs": [],
   "source": [
    "#nos da todas las operaciones estadisticas\n",
    "data.describe()\n",
    "\n",
    "#nos retronara un arreglo de numpy con los datos esperados\n",
    "data.values\n",
    "\n",
    "#para poder renombrar alguna de las columnas usamos\n",
    "data = data.rename(columns= {'gdpPercap': 'PIB'})"
   ]
  },
  {
   "cell_type": "code",
   "execution_count": null,
   "metadata": {},
   "outputs": [],
   "source": [
    "#podemos acceder a las colummna, nos retornara una serie \n",
    "data['country']\n",
    "\n",
    "#otra manera de hacerlo\n",
    "data.country\n",
    "\n",
    "#podemos sacar otro dataframe con la sintaxys\n",
    "dataPaises = data[['country']]"
   ]
  },
  {
   "cell_type": "code",
   "execution_count": null,
   "metadata": {},
   "outputs": [],
   "source": [
    "#filtrados dentro de los dataFrames\n",
    "    #filtrando todos los datos que tengan mexico como pais\n",
    "    #se pueden concatenar filtros\n",
    "data [(data.country == 'Mexico')&(data.year == 1977)]\n",
    "\n",
    "#el filtro que comunmente se usa es el siguiente\n",
    "data[data.country == \"Mexico\"][data.year == 1977]\n",
    "\n"
   ]
  },
  {
   "cell_type": "code",
   "execution_count": null,
   "metadata": {},
   "outputs": [],
   "source": [
    "#cuantos y cuales paises tienen una esperanza de vida mayor a 80 en el 2002\n",
    "data[data.lifeExp >= 80][data.year == 2002].country"
   ]
  },
  {
   "cell_type": "code",
   "execution_count": 102,
   "metadata": {},
   "outputs": [
    {
     "name": "stderr",
     "output_type": "stream",
     "text": [
      "C:\\Users\\mauri\\AppData\\Local\\Temp\\ipykernel_14364\\1456137487.py:7: UserWarning: Boolean Series key will be reindexed to match DataFrame index.\n",
      "  data[(data.country == 'Paraguay') | (data.country == 'Venezuela')][data.year == 1967].sort_values('pop', ascending=False).country.iat[0]\n",
      "C:\\Users\\mauri\\AppData\\Local\\Temp\\ipykernel_14364\\1456137487.py:10: UserWarning: Boolean Series key will be reindexed to match DataFrame index.\n",
      "  data[data.country == 'Panama'][data.lifeExp > 60].year.iat[0]\n",
      "C:\\Users\\mauri\\AppData\\Local\\Temp\\ipykernel_14364\\1456137487.py:13: UserWarning: Boolean Series key will be reindexed to match DataFrame index.\n",
      "  data[data.continent == 'Africa'][data.year == 2007].lifeExp.mean()\n",
      "C:\\Users\\mauri\\AppData\\Local\\Temp\\ipykernel_14364\\1456137487.py:17: UserWarning: Boolean Series key will be reindexed to match DataFrame index.\n",
      "  list(data[data.PIB < Pib2002][data.year == 2007].country)\n",
      "C:\\Users\\mauri\\AppData\\Local\\Temp\\ipykernel_14364\\1456137487.py:23: UserWarning: Boolean Series key will be reindexed to match DataFrame index.\n",
      "  data[data.year == 2007][data.continent == 'Americas']['pop'].sum()\n"
     ]
    },
    {
     "data": {
      "text/plain": [
       "'Germany'"
      ]
     },
     "execution_count": 102,
     "metadata": {},
     "output_type": "execute_result"
    }
   ],
   "source": [
    "#tarea\n",
    "\n",
    "# 3. ¿Que país de América tiene el mayor PIB?\n",
    "data[data.continent == \"Americas\"].sort_values('PIB', ascending=False).country.iat[0]\n",
    "\n",
    "# 4. ¿Qué país tenia más habitantes en 1967 entre Venezuela y Paraguay?\n",
    "data[(data.country == 'Paraguay') | (data.country == 'Venezuela')][data.year == 1967].sort_values('pop', ascending=False).country.iat[0]\n",
    "\n",
    "# 5. ¿En que año Panamá alcanzó una esperanza de vida mayor a 60 años?\n",
    "data[data.country == 'Panama'][data.lifeExp > 60].year.iat[0]\n",
    "\n",
    "# 6. ¿Cuál es el promedio de la esperanza de vida en África en 2007?\n",
    "data[data.continent == 'Africa'][data.year == 2007].lifeExp.mean()\n",
    "\n",
    "# 7. Enlista los países en que el PIB de 2007 fue menor que su PIB en 2002\n",
    "Pib2002 = data[data.year == 2002].PIB.mean()\n",
    "list(data[data.PIB < Pib2002][data.year == 2007].country)\n",
    "\n",
    "# 8. ¿Qué país tiene más habitantes en 2007?\n",
    "data[data.year == 2007].sort_values('pop', ascending=False).country.iat[0]\n",
    "\n",
    "# 9. ¿Cuantos habitantes tiene América en 2007?\n",
    "data[data.year == 2007][data.continent == 'Americas']['pop'].sum()\n",
    "\n",
    "# 10. ¿Qué continente tiene menos habitantes en 2007?\n",
    "data[data.year == 2007].sort_values('pop', ascending=True).country.iat[0]\n",
    "\n",
    "# 11. ¿Cuál es el promedio de PIB en Europa?\n",
    "data[data.continent == 'Europe'].PIB.mean()\n",
    "\n",
    "# 12. ¿Cuál fue el primer país de Europa en superar los 70 millones de habitantes\n",
    "data[(data['continent'] == 'Europe') & (data['pop'] >= 70000000)].sort_values('year').country.iat[0]"
   ]
  }
 ],
 "metadata": {
  "kernelspec": {
   "display_name": "base",
   "language": "python",
   "name": "python3"
  },
  "language_info": {
   "codemirror_mode": {
    "name": "ipython",
    "version": 3
   },
   "file_extension": ".py",
   "mimetype": "text/x-python",
   "name": "python",
   "nbconvert_exporter": "python",
   "pygments_lexer": "ipython3",
   "version": "3.11.4"
  },
  "orig_nbformat": 4
 },
 "nbformat": 4,
 "nbformat_minor": 2
}
